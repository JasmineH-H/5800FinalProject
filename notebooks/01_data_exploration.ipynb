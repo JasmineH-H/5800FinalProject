{
 "cells": [
  {
   "cell_type": "markdown",
   "id": "4fda14d2",
   "metadata": {},
   "source": [
    "# **Hotel Fake Review Detection – Week 1**"
   ]
  },
  {
   "cell_type": "markdown",
   "id": "24f46c4a",
   "metadata": {},
   "source": [
    "## **1. Setup**"
   ]
  },
  {
   "cell_type": "markdown",
   "id": "fb6a1bc6",
   "metadata": {},
   "source": [
    "This cell installs necessary libraries, imports modules, and downloads required data resources.\n",
    "\n",
    "**Before running this cell, please follow Step 2 in the README to create and activate your Python virtual environment.**\n",
    "\n",
    "**Note for macOS users:**  \n",
    "If you encounter SSL errors (e.g., certificate verify failed) when downloading NLTK data, please refer to Step 3 in the README for instructions on how to resolve this."
   ]
  },
  {
   "cell_type": "code",
   "execution_count": 1,
   "id": "41f0acd1",
   "metadata": {},
   "outputs": [
    {
     "name": "stdout",
     "output_type": "stream",
     "text": [
      "Note: you may need to restart the kernel to use updated packages.\n"
     ]
    }
   ],
   "source": [
    "%pip install -q torch transformers datasets scikit-learn pandas nltk ipywidgets beautifulsoup4"
   ]
  },
  {
   "cell_type": "code",
   "execution_count": 2,
   "id": "ad260f3d",
   "metadata": {},
   "outputs": [
    {
     "name": "stderr",
     "output_type": "stream",
     "text": [
      "[nltk_data] Downloading package stopwords to\n",
      "[nltk_data]     /Users/jasminehuang/nltk_data...\n",
      "[nltk_data]   Package stopwords is already up-to-date!\n",
      "[nltk_data] Downloading package wordnet to\n",
      "[nltk_data]     /Users/jasminehuang/nltk_data...\n",
      "[nltk_data]   Package wordnet is already up-to-date!\n",
      "[nltk_data] Downloading package punkt to\n",
      "[nltk_data]     /Users/jasminehuang/nltk_data...\n",
      "[nltk_data]   Package punkt is already up-to-date!\n"
     ]
    },
    {
     "data": {
      "text/plain": [
       "True"
      ]
     },
     "execution_count": 2,
     "metadata": {},
     "output_type": "execute_result"
    }
   ],
   "source": [
    "import pandas as pd\n",
    "import nltk\n",
    "\n",
    "nltk.download('stopwords')\n",
    "nltk.download('wordnet')\n",
    "nltk.download('punkt')"
   ]
  },
  {
   "cell_type": "markdown",
   "id": "3370d1cd",
   "metadata": {},
   "source": [
    "## **2. Load Datasets**"
   ]
  },
  {
   "cell_type": "code",
   "execution_count": 3,
   "id": "d79f103c",
   "metadata": {},
   "outputs": [
    {
     "name": "stdout",
     "output_type": "stream",
     "text": [
      "Product Reviews: (40432, 4)\n",
      "Hotel Reviews: (1600, 5)\n"
     ]
    }
   ],
   "source": [
    "# Deceptive Opinion Spam Corpus\n",
    "hotel_reviews_df = pd.read_csv('../data/raw/dosc_hotel_reviews.csv')\n",
    "# Kaggle product reviews dataset\n",
    "product_reviews_df = pd.read_csv('../data/raw/kaggle_fake_reviews.csv')\n",
    "\n",
    "# Basic check\n",
    "print(\"Product Reviews:\", product_reviews_df.shape)\n",
    "print(\"Hotel Reviews:\", hotel_reviews_df.shape)"
   ]
  },
  {
   "cell_type": "markdown",
   "id": "95f6fd71",
   "metadata": {},
   "source": [
    "## **3. Data Exploration**"
   ]
  },
  {
   "cell_type": "markdown",
   "id": "49461714",
   "metadata": {},
   "source": [
    "### 3.1 Examine the structure of both datasets"
   ]
  },
  {
   "cell_type": "code",
   "execution_count": 4,
   "id": "2dcd7bff",
   "metadata": {},
   "outputs": [
    {
     "name": "stdout",
     "output_type": "stream",
     "text": [
      "=== EXPLORING DATASETS ===\n",
      "\n",
      "1. Product Reviews Dataset (Kaggle):\n",
      "Shape: (40432, 4)\n",
      "Columns: ['category', 'rating', 'label', 'text_']\n",
      "\n",
      "First few rows:\n",
      "             category  rating label  \\\n",
      "0  Home_and_Kitchen_5     5.0    CG   \n",
      "1  Home_and_Kitchen_5     5.0    CG   \n",
      "2  Home_and_Kitchen_5     5.0    CG   \n",
      "3  Home_and_Kitchen_5     1.0    CG   \n",
      "4  Home_and_Kitchen_5     5.0    CG   \n",
      "\n",
      "                                               text_  \n",
      "0  Love this!  Well made, sturdy, and very comfor...  \n",
      "1  love it, a great upgrade from the original.  I...  \n",
      "2  This pillow saved my back. I love the look and...  \n",
      "3  Missing information on how to use it, but it i...  \n",
      "4  Very nice set. Good quality. We have had the s...  \n",
      "\n",
      "2. Hotel Reviews Dataset (DOSC):\n",
      "Shape: (1600, 5)\n",
      "Columns: ['deceptive', 'hotel', 'polarity', 'source', 'text']\n",
      "\n",
      "First few rows:\n",
      "  deceptive   hotel  polarity       source  \\\n",
      "0  truthful  conrad  positive  TripAdvisor   \n",
      "1  truthful   hyatt  positive  TripAdvisor   \n",
      "2  truthful   hyatt  positive  TripAdvisor   \n",
      "3  truthful    omni  positive  TripAdvisor   \n",
      "4  truthful   hyatt  positive  TripAdvisor   \n",
      "\n",
      "                                                text  \n",
      "0  We stayed for a one night getaway with family ...  \n",
      "1  Triple A rate with upgrade to view room was le...  \n",
      "2  This comes a little late as I'm finally catchi...  \n",
      "3  The Omni Chicago really delivers on all fronts...  \n",
      "4  I asked for a high floor away from the elevato...  \n"
     ]
    }
   ],
   "source": [
    "print(\"=== EXPLORING DATASETS ===\")\n",
    "print(\"\\n1. Product Reviews Dataset (Kaggle):\")\n",
    "print(f\"Shape: {product_reviews_df.shape}\")\n",
    "print(f\"Columns: {product_reviews_df.columns.tolist()}\")\n",
    "print(\"\\nFirst few rows:\")\n",
    "print(product_reviews_df.head())\n",
    "\n",
    "print(\"\\n2. Hotel Reviews Dataset (DOSC):\")\n",
    "print(f\"Shape: {hotel_reviews_df.shape}\")\n",
    "print(f\"Columns: {hotel_reviews_df.columns.tolist()}\")\n",
    "print(\"\\nFirst few rows:\")\n",
    "print(hotel_reviews_df.head())"
   ]
  },
  {
   "cell_type": "markdown",
   "id": "a627a3bb",
   "metadata": {},
   "source": [
    "### 3.2 Check for missing values"
   ]
  },
  {
   "cell_type": "code",
   "execution_count": 5,
   "id": "4194d1af",
   "metadata": {},
   "outputs": [
    {
     "name": "stdout",
     "output_type": "stream",
     "text": [
      "\n",
      "=== MISSING VALUES CHECK ===\n",
      "Product Reviews missing values:\n",
      "category    0\n",
      "rating      0\n",
      "label       0\n",
      "text_       0\n",
      "dtype: int64\n",
      "\n",
      "Hotel Reviews missing values:\n",
      "deceptive    0\n",
      "hotel        0\n",
      "polarity     0\n",
      "source       0\n",
      "text         0\n",
      "dtype: int64\n"
     ]
    }
   ],
   "source": [
    "print(\"\\n=== MISSING VALUES CHECK ===\")\n",
    "print(\"Product Reviews missing values:\")\n",
    "print(product_reviews_df.isnull().sum())\n",
    "print(\"\\nHotel Reviews missing values:\")\n",
    "print(hotel_reviews_df.isnull().sum())"
   ]
  },
  {
   "cell_type": "markdown",
   "id": "359e39e4",
   "metadata": {},
   "source": [
    "### 3.3 Check label distributions"
   ]
  },
  {
   "cell_type": "code",
   "execution_count": 6,
   "id": "e2edbf4f",
   "metadata": {},
   "outputs": [
    {
     "name": "stdout",
     "output_type": "stream",
     "text": [
      "\n",
      "=== LABEL DISTRIBUTIONS ===\n",
      "Product Reviews labels:\n",
      "label\n",
      "CG    20216\n",
      "OR    20216\n",
      "Name: count, dtype: int64\n",
      "\n",
      "Hotel Reviews labels:\n",
      "deceptive\n",
      "truthful     800\n",
      "deceptive    800\n",
      "Name: count, dtype: int64\n"
     ]
    }
   ],
   "source": [
    "print(\"\\n=== LABEL DISTRIBUTIONS ===\")\n",
    "print(\"Product Reviews labels:\")\n",
    "print(product_reviews_df['label'].value_counts())\n",
    "print(\"\\nHotel Reviews labels:\")\n",
    "print(hotel_reviews_df['deceptive'].value_counts())"
   ]
  },
  {
   "cell_type": "markdown",
   "id": "3d2526e7",
   "metadata": {},
   "source": [
    "### 3.4 Check text column names and sample texts"
   ]
  },
  {
   "cell_type": "code",
   "execution_count": 7,
   "id": "668e4755",
   "metadata": {},
   "outputs": [
    {
     "name": "stdout",
     "output_type": "stream",
     "text": [
      "\n",
      "=== TEXT SAMPLES ===\n",
      "Product Reviews text samples:\n",
      "Text column: text_\n",
      "['Love this!  Well made, sturdy, and very comfortable.  I love it!Very pretty', \"love it, a great upgrade from the original.  I've had mine for a couple of years\"]\n",
      "\n",
      "Hotel Reviews text samples:\n",
      "Text column: text\n",
      "['We stayed for a one night getaway with family on a thursday. Triple AAA rate of 173 was a steal. 7th floor room complete with 44in plasma TV bose stereo, voss and evian water, and gorgeous bathroom(no tub but was fine for us) Concierge was very helpful. You cannot beat this location... Only flaw was breakfast was pricey and service was very very slow(2hours for four kids and four adults on a friday morning) even though there were only two other tables in the restaurant. Food was very good so it was worth the wait. I would return in a heartbeat. A gem in chicago... \\n', 'Triple A rate with upgrade to view room was less than $200 which also included breakfast vouchers. Had a great view of river, lake, Wrigley Bldg. & Tribune Bldg. Most major restaurants, Shopping, Sightseeing attractions within walking distance. Large room with a very comfortable bed. \\n']\n"
     ]
    }
   ],
   "source": [
    "print(\"\\n=== TEXT SAMPLES ===\")\n",
    "print(\"Product Reviews text samples:\")\n",
    "text_col_product = [col for col in product_reviews_df.columns if 'text' in col.lower()][0]\n",
    "print(f\"Text column: {text_col_product}\")\n",
    "print(product_reviews_df[text_col_product].head(2).tolist())\n",
    "\n",
    "print(\"\\nHotel Reviews text samples:\")\n",
    "text_col_hotel = [col for col in hotel_reviews_df.columns if 'text' in col.lower()][0]\n",
    "print(f\"Text column: {text_col_hotel}\")\n",
    "print(hotel_reviews_df[text_col_hotel].head(2).tolist())"
   ]
  },
  {
   "cell_type": "markdown",
   "id": "4e77d337",
   "metadata": {},
   "source": [
    "## **4.Data Preprocessing and Standardization**"
   ]
  },
  {
   "cell_type": "markdown",
   "id": "465d52ba",
   "metadata": {},
   "source": [
    "### 4.1 Clean and standardize datasets"
   ]
  },
  {
   "cell_type": "code",
   "execution_count": 8,
   "id": "7ba10801",
   "metadata": {},
   "outputs": [
    {
     "name": "stdout",
     "output_type": "stream",
     "text": [
      "\n",
      "=== CLEANED DATASETS ===\n",
      "\n",
      "1. Product Reviews Dataset (Kaggle):\n",
      "                                                text label\n",
      "0  love well made sturdy comfortable love itvery ...    CG\n",
      "1   love great upgrade original ive mine couple year    CG\n",
      "2            pillow saved back love look feel pillow    CG\n",
      "3        missing information use great product price    CG\n",
      "4                nice set good quality set two month    CG\n",
      "\n",
      "2. Hotel Reviews Dataset (DOSC):\n",
      "                                                text     label\n",
      "0  stayed one night getaway family thursday tripl...  truthful\n",
      "1  triple rate upgrade view room less 200 also in...  truthful\n",
      "2  come little late im finally catching review pa...  truthful\n",
      "3  omni chicago really delivers front spaciousnes...  truthful\n",
      "4  asked high floor away elevator got room pleasa...  truthful\n"
     ]
    }
   ],
   "source": [
    "import sys\n",
    "sys.path.append('../src')\n",
    "from data_processing import standardize_dataset, convert_labels_to_binary\n",
    "\n",
    "product_clean_df = standardize_dataset(product_reviews_df, 'text_', 'label')\n",
    "hotel_clean_df = standardize_dataset(hotel_reviews_df, 'text', 'deceptive')\n",
    "\n",
    "print(\"\\n=== CLEANED DATASETS ===\")\n",
    "print(\"\\n1. Product Reviews Dataset (Kaggle):\")\n",
    "print(product_clean_df.head())\n",
    "print(\"\\n2. Hotel Reviews Dataset (DOSC):\")\n",
    "print(hotel_clean_df.head())"
   ]
  },
  {
   "cell_type": "markdown",
   "id": "b6b3f44b",
   "metadata": {},
   "source": [
    "### 4.2 Convert labels to binary"
   ]
  },
  {
   "cell_type": "code",
   "execution_count": 9,
   "id": "1a40a85e",
   "metadata": {},
   "outputs": [
    {
     "name": "stdout",
     "output_type": "stream",
     "text": [
      "\n",
      "=== FINAL DATASETS ===\n",
      "\n",
      "1.Product Reviews Dataset (Kaggle):\n",
      "                                                text  label\n",
      "0  love well made sturdy comfortable love itvery ...      1\n",
      "1   love great upgrade original ive mine couple year      1\n",
      "2            pillow saved back love look feel pillow      1\n",
      "3        missing information use great product price      1\n",
      "4                nice set good quality set two month      1\n",
      "\n",
      "2. Hotel Reviews Dataset (DOSC):\n",
      "                                                text  label\n",
      "0  stayed one night getaway family thursday tripl...      0\n",
      "1  triple rate upgrade view room less 200 also in...      0\n",
      "2  come little late im finally catching review pa...      0\n",
      "3  omni chicago really delivers front spaciousnes...      0\n",
      "4  asked high floor away elevator got room pleasa...      0\n"
     ]
    }
   ],
   "source": [
    "from data_processing import convert_labels_to_binary\n",
    "product_final_df = convert_labels_to_binary(product_clean_df)\n",
    "hotel_final_df = convert_labels_to_binary(hotel_clean_df)\n",
    "\n",
    "print(\"\\n=== FINAL DATASETS ===\")\n",
    "print(\"\\n1.Product Reviews Dataset (Kaggle):\")\n",
    "print(product_final_df.head())\n",
    "print(\"\\n2. Hotel Reviews Dataset (DOSC):\")\n",
    "print(hotel_final_df.head())"
   ]
  },
  {
   "cell_type": "markdown",
   "id": "f66b2eb8",
   "metadata": {},
   "source": [
    "## **5. Save Final Cleaned Data**"
   ]
  },
  {
   "cell_type": "code",
   "execution_count": 10,
   "id": "b5bba831",
   "metadata": {},
   "outputs": [
    {
     "name": "stdout",
     "output_type": "stream",
     "text": [
      "✅ Final cleaned datasets saved to data/processed/\n",
      "✅ Product reviews: (40431, 2)\n",
      "✅ Hotel reviews: (1600, 2)\n"
     ]
    }
   ],
   "source": [
    "import os\n",
    "\n",
    "# Save the final cleaned datasets\n",
    "product_final_df.to_csv('../data/processed/product_final_clean.csv', index=False)\n",
    "hotel_final_df.to_csv('../data/processed/hotel_final_clean.csv', index=False)\n",
    "\n",
    "print(\"✅ Final cleaned datasets saved to data/processed/\")\n",
    "print(f\"✅ Product reviews: {product_final_df.shape}\")\n",
    "print(f\"✅ Hotel reviews: {hotel_final_df.shape}\")"
   ]
  }
 ],
 "metadata": {
  "kernelspec": {
   "display_name": ".venv",
   "language": "python",
   "name": "python3"
  },
  "language_info": {
   "codemirror_mode": {
    "name": "ipython",
    "version": 3
   },
   "file_extension": ".py",
   "mimetype": "text/x-python",
   "name": "python",
   "nbconvert_exporter": "python",
   "pygments_lexer": "ipython3",
   "version": "3.12.5"
  }
 },
 "nbformat": 4,
 "nbformat_minor": 5
}
